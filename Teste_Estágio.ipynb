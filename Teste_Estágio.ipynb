{
  "nbformat": 4,
  "nbformat_minor": 0,
  "metadata": {
    "colab": {
      "name": "Teste Estágio",
      "provenance": []
    },
    "kernelspec": {
      "name": "python3",
      "display_name": "Python 3"
    },
    "language_info": {
      "name": "python"
    }
  },
  "cells": [
    {
      "cell_type": "code",
      "source": [
        "import pandas as pd\n",
        "import statistics as st"
      ],
      "metadata": {
        "id": "QcLib7bdAviT"
      },
      "execution_count": 16,
      "outputs": []
    },
    {
      "cell_type": "markdown",
      "source": [
        "2 - Dado a sequência de Fibonacci, onde se inicia por 0 e 1 e o próximo valor sempre será a soma dos 2 valores anteriores (exemplo: 0, 1, 1, 2, 3, 5, 8, 13, 21, 34...), escreva um programa na linguagem que desejar onde, informado um número, ele calcule a sequência de Fibonacci e retorne uma mensagem avisando se o número informado pertence ou não a sequência.\n",
        "\n",
        "IMPORTANTE:\n",
        "Esse número pode ser informado através de qualquer entrada de sua preferência ou pode ser previamente definido no código;"
      ],
      "metadata": {
        "id": "OwANORwZ_3ac"
      }
    },
    {
      "cell_type": "code",
      "execution_count": 2,
      "metadata": {
        "colab": {
          "base_uri": "https://localhost:8080/"
        },
        "id": "7FCCxB1-7_TR",
        "outputId": "d2a49216-0b4e-421e-da1e-8cfdd6022ad6"
      },
      "outputs": [
        {
          "output_type": "stream",
          "name": "stdout",
          "text": [
            "5\n",
            "O número inserido pertence a sequência de Fibonacci\n"
          ]
        }
      ],
      "source": [
        "num = int(input())\n",
        "def fibonacci(n):\n",
        "    n1 = 0\n",
        "    n2 = 1\n",
        "    n3 = 0\n",
        "    while (n > n3):\n",
        "        n3 = n1 + n2\n",
        "        n1 = n2\n",
        "        n2 = n3\n",
        "    \n",
        "    if(n != 0 and n != n3):\n",
        "      print(\"O número inserido não pertence a sequência de Fibonacci\")\n",
        "\n",
        "    else:\n",
        "      print('O número inserido pertence a sequência de Fibonacci')\n",
        "\n",
        "fibonacci(num)\n",
        "\n"
      ]
    },
    {
      "cell_type": "markdown",
      "source": [
        "3 - Dado um vetor que guarda o valor de faturamento diário de uma distribuidora, faça um programa, na linguagem que desejar, que calcule e retorne:\n",
        "• O menor valor de faturamento ocorrido em um dia do mês;\n",
        "• O maior valor de faturamento ocorrido em um dia do mês;\n",
        "• Número de dias no mês em que o valor de faturamento diário foi superior à média mensal.\n",
        "\n",
        "IMPORTANTE:\n",
        "a) Usar o json ou xml disponível como fonte dos dados do faturamento mensal;\n",
        "b) Podem existir dias sem faturamento, como nos finais de semana e feriados. Estes dias devem ser ignorados no cálculo da média;\n",
        "\n"
      ],
      "metadata": {
        "id": "anmtO4gRNfiS"
      }
    },
    {
      "cell_type": "code",
      "source": [
        "link = \"https://raw.githubusercontent.com/sando1998/Teste-Est-gio/main/dados.json\"\n",
        "\n",
        "df = pd.read_json(link)\n",
        "\n",
        "df_new = df[df['valor'] > 0]\n",
        "\n",
        "print(f\"Menor valor do Json {df_new['valor'].min()}\")\n",
        "\n",
        "print(f\"Maior valor do Json {df_new['valor'].max()}\")\n",
        "\n",
        "print(f\"Média valor do Json {df_new['valor'].mean()}\")\n"
      ],
      "metadata": {
        "colab": {
          "base_uri": "https://localhost:8080/"
        },
        "id": "efTysE9iINwu",
        "outputId": "90b8da6d-438f-4a61-b8c2-ac622c240207"
      },
      "execution_count": 48,
      "outputs": [
        {
          "output_type": "stream",
          "name": "stdout",
          "text": [
            "Menor valor do Json 373.7838\n",
            "Maior valor do Json 48924.2448\n",
            "Média valor do Json 20865.370166666664\n"
          ]
        }
      ]
    },
    {
      "cell_type": "markdown",
      "source": [
        "4 - Dado o valor de faturamento mensal de uma distribuidora\n",
        "\n",
        "Escreva um programa na linguagem que desejar onde calcule o percentual de representação que cada estado teve dentro do valor total mensal da distribuidora."
      ],
      "metadata": {
        "id": "wozgA0OBP85y"
      }
    },
    {
      "cell_type": "code",
      "source": [
        "faturamento = [\n",
        "               ['SP', 67836.43],\n",
        "               ['RJ', 36678.66],\n",
        "               ['MG', 29229.88],\n",
        "               ['ES', 27165.48],\n",
        "               ['OUTROS', 19849.53]\n",
        "]\n",
        "soma = 0\n",
        "for i in faturamento:\n",
        "  soma += i[1]\n",
        "\n",
        "for i in faturamento:\n",
        "  print(f\"O estado {i[0]} obteve porcentagem de: {(i[1]/soma) * 100}\")  "
      ],
      "metadata": {
        "colab": {
          "base_uri": "https://localhost:8080/"
        },
        "id": "lxyUEtosNjC0",
        "outputId": "162c078c-ec34-4205-815a-48f3a8c46e79"
      },
      "execution_count": 45,
      "outputs": [
        {
          "output_type": "stream",
          "name": "stdout",
          "text": [
            "O estado SP obteve porcentagem de: 37.52845624346716\n",
            "O estado RJ obteve porcentagem de: 20.291360952794975\n",
            "O estado MG obteve porcentagem de: 16.170548370275323\n",
            "O estado ES obteve porcentagem de: 15.028481414968068\n",
            "O estado OUTROS obteve porcentagem de: 10.981153018494469\n"
          ]
        }
      ]
    },
    {
      "cell_type": "markdown",
      "source": [
        "5 - Escreva um programa que inverta os caracteres de um string.\n",
        "\n",
        "IMPORTANTE:\n",
        "a) Essa string pode ser informada através de qualquer entrada de sua preferência ou pode ser previamente definida no código;\n",
        "b) Evite usar funções prontas, como, por exemplo, reverse;\n"
      ],
      "metadata": {
        "id": "cLRZGF7RYGy7"
      }
    },
    {
      "cell_type": "code",
      "source": [
        "palavra = str(input())\n",
        "out = \"\"\n",
        "for i in range(len(palavra)-1,-1,-1):\n",
        "  out += palavra[i]\n",
        "print(out)"
      ],
      "metadata": {
        "colab": {
          "base_uri": "https://localhost:8080/"
        },
        "id": "uMbcf7flQA4D",
        "outputId": "dc946592-6fb2-4b75-c60a-0d290d58b9b8"
      },
      "execution_count": 49,
      "outputs": [
        {
          "output_type": "stream",
          "name": "stdout",
          "text": [
            "sandoval\n",
            "lavodnas\n"
          ]
        }
      ]
    },
    {
      "cell_type": "markdown",
      "source": [
        ""
      ],
      "metadata": {
        "id": "KQz0U_IDNah0"
      }
    },
    {
      "cell_type": "markdown",
      "source": [
        ""
      ],
      "metadata": {
        "id": "hpfZEhsgNakq"
      }
    }
  ]
}